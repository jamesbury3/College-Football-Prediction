{
 "cells": [
  {
   "cell_type": "markdown",
   "metadata": {},
   "source": [
    "# Convert all season stats to differences"
   ]
  },
  {
   "cell_type": "code",
   "execution_count": 1,
   "metadata": {},
   "outputs": [],
   "source": [
    "import pandas as pd"
   ]
  },
  {
   "cell_type": "code",
   "execution_count": 2,
   "metadata": {},
   "outputs": [],
   "source": [
    "df = pd.read_csv('FINAL_DF_CONFERENCES.csv')"
   ]
  },
  {
   "cell_type": "code",
   "execution_count": 3,
   "metadata": {
    "scrolled": true
   },
   "outputs": [
    {
     "data": {
      "text/plain": [
       "Index(['School', 'Opponent', 'Date', 'Season', 'AtHome', 'NeutralLocation',\n",
       "       'Score', 'OppScore', 'Total', 'Outcome', 'Spread', 'Season.Type',\n",
       "       'GameNumber', 'PassCmp', 'PassAtt', 'PassPct', 'PassYds', 'PassTD',\n",
       "       'RushAtt', 'RushYds', 'RushAvg', 'RushTD', 'XPM', 'XPA', 'XPPercent',\n",
       "       'FGM', 'FGA', 'FGPercent', 'KickPts', 'Fum', 'Int', 'TotalTO',\n",
       "       'SeasonRanking', 'OppSeasonRanking', 'RankDiff', 'OppPassCmp',\n",
       "       'OppPassAtt', 'OppPassPct', 'OppPassYds', 'OppPassTD', 'OppRushAtt',\n",
       "       'OppRushYds', 'OppRushAvg', 'OppRushTD', 'OppXPM', 'OppXPA',\n",
       "       'OppXPPercent', 'OppFGM', 'OppFGA', 'OppFGPercent', 'OppKickPts',\n",
       "       'OppFum', 'OppInt', 'OppTotalTO', 'Team', 'Nickname', 'City', 'State',\n",
       "       'Enrollment', 'Conference', 'OppNickname', 'OppCity', 'OppState',\n",
       "       'OppEnrollment', 'OppConference'],\n",
       "      dtype='object')"
      ]
     },
     "execution_count": 3,
     "metadata": {},
     "output_type": "execute_result"
    }
   ],
   "source": [
    "df.columns"
   ]
  },
  {
   "cell_type": "markdown",
   "metadata": {},
   "source": [
    "### Make Diff columns"
   ]
  },
  {
   "cell_type": "code",
   "execution_count": 5,
   "metadata": {
    "scrolled": true
   },
   "outputs": [
    {
     "name": "stdout",
     "output_type": "stream",
     "text": [
      "df[\"SchoolDiff\"] = df[\"School\"] - df[\"OppSchool\"]\n",
      "df[\"OpponentDiff\"] = df[\"Opponent\"] - df[\"OppOpponent\"]\n",
      "df[\"DateDiff\"] = df[\"Date\"] - df[\"OppDate\"]\n",
      "df[\"SeasonDiff\"] = df[\"Season\"] - df[\"OppSeason\"]\n",
      "df[\"AtHomeDiff\"] = df[\"AtHome\"] - df[\"OppAtHome\"]\n",
      "df[\"NeutralLocationDiff\"] = df[\"NeutralLocation\"] - df[\"OppNeutralLocation\"]\n",
      "df[\"ScoreDiff\"] = df[\"Score\"] - df[\"OppScore\"]\n",
      "df[\"OppScoreDiff\"] = df[\"OppScore\"] - df[\"OppOppScore\"]\n",
      "df[\"TotalDiff\"] = df[\"Total\"] - df[\"OppTotal\"]\n",
      "df[\"OutcomeDiff\"] = df[\"Outcome\"] - df[\"OppOutcome\"]\n",
      "df[\"SpreadDiff\"] = df[\"Spread\"] - df[\"OppSpread\"]\n",
      "df[\"Season.TypeDiff\"] = df[\"Season.Type\"] - df[\"OppSeason.Type\"]\n",
      "df[\"GameNumberDiff\"] = df[\"GameNumber\"] - df[\"OppGameNumber\"]\n",
      "df[\"PassCmpDiff\"] = df[\"PassCmp\"] - df[\"OppPassCmp\"]\n",
      "df[\"PassAttDiff\"] = df[\"PassAtt\"] - df[\"OppPassAtt\"]\n",
      "df[\"PassPctDiff\"] = df[\"PassPct\"] - df[\"OppPassPct\"]\n",
      "df[\"PassYdsDiff\"] = df[\"PassYds\"] - df[\"OppPassYds\"]\n",
      "df[\"PassTDDiff\"] = df[\"PassTD\"] - df[\"OppPassTD\"]\n",
      "df[\"RushAttDiff\"] = df[\"RushAtt\"] - df[\"OppRushAtt\"]\n",
      "df[\"RushYdsDiff\"] = df[\"RushYds\"] - df[\"OppRushYds\"]\n",
      "df[\"RushAvgDiff\"] = df[\"RushAvg\"] - df[\"OppRushAvg\"]\n",
      "df[\"RushTDDiff\"] = df[\"RushTD\"] - df[\"OppRushTD\"]\n",
      "df[\"XPMDiff\"] = df[\"XPM\"] - df[\"OppXPM\"]\n",
      "df[\"XPADiff\"] = df[\"XPA\"] - df[\"OppXPA\"]\n",
      "df[\"XPPercentDiff\"] = df[\"XPPercent\"] - df[\"OppXPPercent\"]\n",
      "df[\"FGMDiff\"] = df[\"FGM\"] - df[\"OppFGM\"]\n",
      "df[\"FGADiff\"] = df[\"FGA\"] - df[\"OppFGA\"]\n",
      "df[\"FGPercentDiff\"] = df[\"FGPercent\"] - df[\"OppFGPercent\"]\n",
      "df[\"KickPtsDiff\"] = df[\"KickPts\"] - df[\"OppKickPts\"]\n",
      "df[\"FumDiff\"] = df[\"Fum\"] - df[\"OppFum\"]\n",
      "df[\"IntDiff\"] = df[\"Int\"] - df[\"OppInt\"]\n",
      "df[\"TotalTODiff\"] = df[\"TotalTO\"] - df[\"OppTotalTO\"]\n",
      "df[\"SeasonRankingDiff\"] = df[\"SeasonRanking\"] - df[\"OppSeasonRanking\"]\n",
      "df[\"OppSeasonRankingDiff\"] = df[\"OppSeasonRanking\"] - df[\"OppOppSeasonRanking\"]\n",
      "df[\"RankDiffDiff\"] = df[\"RankDiff\"] - df[\"OppRankDiff\"]\n",
      "df[\"OppPassCmpDiff\"] = df[\"OppPassCmp\"] - df[\"OppOppPassCmp\"]\n",
      "df[\"OppPassAttDiff\"] = df[\"OppPassAtt\"] - df[\"OppOppPassAtt\"]\n",
      "df[\"OppPassPctDiff\"] = df[\"OppPassPct\"] - df[\"OppOppPassPct\"]\n",
      "df[\"OppPassYdsDiff\"] = df[\"OppPassYds\"] - df[\"OppOppPassYds\"]\n",
      "df[\"OppPassTDDiff\"] = df[\"OppPassTD\"] - df[\"OppOppPassTD\"]\n",
      "df[\"OppRushAttDiff\"] = df[\"OppRushAtt\"] - df[\"OppOppRushAtt\"]\n",
      "df[\"OppRushYdsDiff\"] = df[\"OppRushYds\"] - df[\"OppOppRushYds\"]\n",
      "df[\"OppRushAvgDiff\"] = df[\"OppRushAvg\"] - df[\"OppOppRushAvg\"]\n",
      "df[\"OppRushTDDiff\"] = df[\"OppRushTD\"] - df[\"OppOppRushTD\"]\n",
      "df[\"OppXPMDiff\"] = df[\"OppXPM\"] - df[\"OppOppXPM\"]\n",
      "df[\"OppXPADiff\"] = df[\"OppXPA\"] - df[\"OppOppXPA\"]\n",
      "df[\"OppXPPercentDiff\"] = df[\"OppXPPercent\"] - df[\"OppOppXPPercent\"]\n",
      "df[\"OppFGMDiff\"] = df[\"OppFGM\"] - df[\"OppOppFGM\"]\n",
      "df[\"OppFGADiff\"] = df[\"OppFGA\"] - df[\"OppOppFGA\"]\n",
      "df[\"OppFGPercentDiff\"] = df[\"OppFGPercent\"] - df[\"OppOppFGPercent\"]\n",
      "df[\"OppKickPtsDiff\"] = df[\"OppKickPts\"] - df[\"OppOppKickPts\"]\n",
      "df[\"OppFumDiff\"] = df[\"OppFum\"] - df[\"OppOppFum\"]\n",
      "df[\"OppIntDiff\"] = df[\"OppInt\"] - df[\"OppOppInt\"]\n",
      "df[\"OppTotalTODiff\"] = df[\"OppTotalTO\"] - df[\"OppOppTotalTO\"]\n",
      "df[\"TeamDiff\"] = df[\"Team\"] - df[\"OppTeam\"]\n",
      "df[\"NicknameDiff\"] = df[\"Nickname\"] - df[\"OppNickname\"]\n",
      "df[\"CityDiff\"] = df[\"City\"] - df[\"OppCity\"]\n",
      "df[\"StateDiff\"] = df[\"State\"] - df[\"OppState\"]\n",
      "df[\"EnrollmentDiff\"] = df[\"Enrollment\"] - df[\"OppEnrollment\"]\n",
      "df[\"ConferenceDiff\"] = df[\"Conference\"] - df[\"OppConference\"]\n",
      "df[\"OppNicknameDiff\"] = df[\"OppNickname\"] - df[\"OppOppNickname\"]\n",
      "df[\"OppCityDiff\"] = df[\"OppCity\"] - df[\"OppOppCity\"]\n",
      "df[\"OppStateDiff\"] = df[\"OppState\"] - df[\"OppOppState\"]\n",
      "df[\"OppEnrollmentDiff\"] = df[\"OppEnrollment\"] - df[\"OppOppEnrollment\"]\n",
      "df[\"OppConferenceDiff\"] = df[\"OppConference\"] - df[\"OppOppConference\"]\n"
     ]
    }
   ],
   "source": [
    "for c in df.columns:\n",
    "    print(\"df[\\\"\" + c + \"Diff\\\"] = df[\\\"\" + c + \"\\\"] - df[\\\"Opp\" + c + \"\\\"]\")"
   ]
  },
  {
   "cell_type": "code",
   "execution_count": 6,
   "metadata": {},
   "outputs": [],
   "source": [
    "df[\"PassCmpDiff\"] = df[\"PassCmp\"] - df[\"OppPassCmp\"]\n",
    "df[\"PassAttDiff\"] = df[\"PassAtt\"] - df[\"OppPassAtt\"]\n",
    "df[\"PassPctDiff\"] = df[\"PassPct\"] - df[\"OppPassPct\"]\n",
    "df[\"PassYdsDiff\"] = df[\"PassYds\"] - df[\"OppPassYds\"]\n",
    "df[\"PassTDDiff\"] = df[\"PassTD\"] - df[\"OppPassTD\"]\n",
    "df[\"RushAttDiff\"] = df[\"RushAtt\"] - df[\"OppRushAtt\"]\n",
    "df[\"RushYdsDiff\"] = df[\"RushYds\"] - df[\"OppRushYds\"]\n",
    "df[\"RushAvgDiff\"] = df[\"RushAvg\"] - df[\"OppRushAvg\"]\n",
    "df[\"RushTDDiff\"] = df[\"RushTD\"] - df[\"OppRushTD\"]\n",
    "df[\"XPMDiff\"] = df[\"XPM\"] - df[\"OppXPM\"]\n",
    "df[\"XPADiff\"] = df[\"XPA\"] - df[\"OppXPA\"]\n",
    "df[\"XPPercentDiff\"] = df[\"XPPercent\"] - df[\"OppXPPercent\"]\n",
    "df[\"FGMDiff\"] = df[\"FGM\"] - df[\"OppFGM\"]\n",
    "df[\"FGADiff\"] = df[\"FGA\"] - df[\"OppFGA\"]\n",
    "df[\"FGPercentDiff\"] = df[\"FGPercent\"] - df[\"OppFGPercent\"]\n",
    "df[\"KickPtsDiff\"] = df[\"KickPts\"] - df[\"OppKickPts\"]\n",
    "df[\"FumDiff\"] = df[\"Fum\"] - df[\"OppFum\"]\n",
    "df[\"IntDiff\"] = df[\"Int\"] - df[\"OppInt\"]\n",
    "df[\"TotalTODiff\"] = df[\"TotalTO\"] - df[\"OppTotalTO\"]"
   ]
  },
  {
   "cell_type": "markdown",
   "metadata": {},
   "source": [
    "### Delete Old columns"
   ]
  },
  {
   "cell_type": "code",
   "execution_count": 8,
   "metadata": {
    "scrolled": true
   },
   "outputs": [
    {
     "name": "stdout",
     "output_type": "stream",
     "text": [
      "del df[\"School\"]\n",
      "del df[\"Opponent\"]\n",
      "del df[\"Date\"]\n",
      "del df[\"Season\"]\n",
      "del df[\"AtHome\"]\n",
      "del df[\"NeutralLocation\"]\n",
      "del df[\"Score\"]\n",
      "del df[\"OppScore\"]\n",
      "del df[\"Total\"]\n",
      "del df[\"Outcome\"]\n",
      "del df[\"Spread\"]\n",
      "del df[\"Season.Type\"]\n",
      "del df[\"GameNumber\"]\n",
      "del df[\"PassCmp\"]\n",
      "del df[\"PassAtt\"]\n",
      "del df[\"PassPct\"]\n",
      "del df[\"PassYds\"]\n",
      "del df[\"PassTD\"]\n",
      "del df[\"RushAtt\"]\n",
      "del df[\"RushYds\"]\n",
      "del df[\"RushAvg\"]\n",
      "del df[\"RushTD\"]\n",
      "del df[\"XPM\"]\n",
      "del df[\"XPA\"]\n",
      "del df[\"XPPercent\"]\n",
      "del df[\"FGM\"]\n",
      "del df[\"FGA\"]\n",
      "del df[\"FGPercent\"]\n",
      "del df[\"KickPts\"]\n",
      "del df[\"Fum\"]\n",
      "del df[\"Int\"]\n",
      "del df[\"TotalTO\"]\n",
      "del df[\"SeasonRanking\"]\n",
      "del df[\"OppSeasonRanking\"]\n",
      "del df[\"RankDiff\"]\n",
      "del df[\"OppPassCmp\"]\n",
      "del df[\"OppPassAtt\"]\n",
      "del df[\"OppPassPct\"]\n",
      "del df[\"OppPassYds\"]\n",
      "del df[\"OppPassTD\"]\n",
      "del df[\"OppRushAtt\"]\n",
      "del df[\"OppRushYds\"]\n",
      "del df[\"OppRushAvg\"]\n",
      "del df[\"OppRushTD\"]\n",
      "del df[\"OppXPM\"]\n",
      "del df[\"OppXPA\"]\n",
      "del df[\"OppXPPercent\"]\n",
      "del df[\"OppFGM\"]\n",
      "del df[\"OppFGA\"]\n",
      "del df[\"OppFGPercent\"]\n",
      "del df[\"OppKickPts\"]\n",
      "del df[\"OppFum\"]\n",
      "del df[\"OppInt\"]\n",
      "del df[\"OppTotalTO\"]\n",
      "del df[\"Team\"]\n",
      "del df[\"Nickname\"]\n",
      "del df[\"City\"]\n",
      "del df[\"State\"]\n",
      "del df[\"Enrollment\"]\n",
      "del df[\"Conference\"]\n",
      "del df[\"OppNickname\"]\n",
      "del df[\"OppCity\"]\n",
      "del df[\"OppState\"]\n",
      "del df[\"OppEnrollment\"]\n",
      "del df[\"OppConference\"]\n",
      "del df[\"PassCmpDiff\"]\n",
      "del df[\"PassAttDiff\"]\n",
      "del df[\"PassPctDiff\"]\n",
      "del df[\"PassYdsDiff\"]\n",
      "del df[\"PassTDDiff\"]\n",
      "del df[\"RushAttDiff\"]\n",
      "del df[\"RushYdsDiff\"]\n",
      "del df[\"RushAvgDiff\"]\n",
      "del df[\"RushTDDiff\"]\n",
      "del df[\"XPMDiff\"]\n",
      "del df[\"XPADiff\"]\n",
      "del df[\"XPPercentDiff\"]\n",
      "del df[\"FGMDiff\"]\n",
      "del df[\"FGADiff\"]\n",
      "del df[\"FGPercentDiff\"]\n",
      "del df[\"KickPtsDiff\"]\n",
      "del df[\"FumDiff\"]\n",
      "del df[\"IntDiff\"]\n",
      "del df[\"TotalTODiff\"]\n"
     ]
    }
   ],
   "source": [
    "cols = df.columns\n",
    "for c in cols:\n",
    "    print(\"del df[\\\"\" + c + \"\\\"]\")"
   ]
  },
  {
   "cell_type": "code",
   "execution_count": 9,
   "metadata": {},
   "outputs": [],
   "source": [
    "del df[\"PassCmp\"]\n",
    "del df[\"PassAtt\"]\n",
    "del df[\"PassPct\"]\n",
    "del df[\"PassYds\"]\n",
    "del df[\"PassTD\"]\n",
    "del df[\"RushAtt\"]\n",
    "del df[\"RushYds\"]\n",
    "del df[\"RushAvg\"]\n",
    "del df[\"RushTD\"]\n",
    "del df[\"XPM\"]\n",
    "del df[\"XPA\"]\n",
    "del df[\"XPPercent\"]\n",
    "del df[\"FGM\"]\n",
    "del df[\"FGA\"]\n",
    "del df[\"FGPercent\"]\n",
    "del df[\"KickPts\"]\n",
    "del df[\"Fum\"]\n",
    "del df[\"Int\"]\n",
    "del df[\"TotalTO\"]\n",
    "del df[\"OppPassCmp\"]\n",
    "del df[\"OppPassAtt\"]\n",
    "del df[\"OppPassPct\"]\n",
    "del df[\"OppPassYds\"]\n",
    "del df[\"OppPassTD\"]\n",
    "del df[\"OppRushAtt\"]\n",
    "del df[\"OppRushYds\"]\n",
    "del df[\"OppRushAvg\"]\n",
    "del df[\"OppRushTD\"]\n",
    "del df[\"OppXPM\"]\n",
    "del df[\"OppXPA\"]\n",
    "del df[\"OppXPPercent\"]\n",
    "del df[\"OppFGM\"]\n",
    "del df[\"OppFGA\"]\n",
    "del df[\"OppFGPercent\"]\n",
    "del df[\"OppKickPts\"]\n",
    "del df[\"OppFum\"]\n",
    "del df[\"OppInt\"]\n",
    "del df[\"OppTotalTO\"]"
   ]
  },
  {
   "cell_type": "code",
   "execution_count": 11,
   "metadata": {},
   "outputs": [
    {
     "data": {
      "text/plain": [
       "Index(['School', 'Opponent', 'Date', 'Season', 'AtHome', 'NeutralLocation',\n",
       "       'Score', 'OppScore', 'Total', 'Outcome', 'Spread', 'Season.Type',\n",
       "       'GameNumber', 'SeasonRanking', 'OppSeasonRanking', 'RankDiff', 'Team',\n",
       "       'Nickname', 'City', 'State', 'Enrollment', 'Conference', 'OppNickname',\n",
       "       'OppCity', 'OppState', 'OppEnrollment', 'OppConference', 'PassCmpDiff',\n",
       "       'PassAttDiff', 'PassPctDiff', 'PassYdsDiff', 'PassTDDiff',\n",
       "       'RushAttDiff', 'RushYdsDiff', 'RushAvgDiff', 'RushTDDiff', 'XPMDiff',\n",
       "       'XPADiff', 'XPPercentDiff', 'FGMDiff', 'FGADiff', 'FGPercentDiff',\n",
       "       'KickPtsDiff', 'FumDiff', 'IntDiff', 'TotalTODiff'],\n",
       "      dtype='object')"
      ]
     },
     "execution_count": 11,
     "metadata": {},
     "output_type": "execute_result"
    }
   ],
   "source": [
    "df.columns"
   ]
  },
  {
   "cell_type": "markdown",
   "metadata": {},
   "source": [
    "# Cleaning"
   ]
  },
  {
   "cell_type": "code",
   "execution_count": 21,
   "metadata": {},
   "outputs": [],
   "source": [
    "df = df[abs(df[\"Spread\"]) < 54]"
   ]
  },
  {
   "cell_type": "markdown",
   "metadata": {},
   "source": [
    "# Export"
   ]
  },
  {
   "cell_type": "code",
   "execution_count": 22,
   "metadata": {},
   "outputs": [],
   "source": [
    "df.to_csv('DF_FINAL_CONFERENCES_DIFFS.csv', index=False)"
   ]
  }
 ],
 "metadata": {
  "kernelspec": {
   "display_name": "Python 3",
   "language": "python",
   "name": "python3"
  },
  "language_info": {
   "codemirror_mode": {
    "name": "ipython",
    "version": 3
   },
   "file_extension": ".py",
   "mimetype": "text/x-python",
   "name": "python",
   "nbconvert_exporter": "python",
   "pygments_lexer": "ipython3",
   "version": "3.7.3"
  }
 },
 "nbformat": 4,
 "nbformat_minor": 2
}
